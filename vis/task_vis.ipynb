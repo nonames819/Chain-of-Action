{
 "cells": [
  {
   "cell_type": "code",
   "execution_count": 17,
   "metadata": {},
   "outputs": [],
   "source": [
    "import pickle\n",
    "\n",
    "pkl_path = \"/workspace/chd_data/Chain-of-Action/data/rlbench/train/reach_target/variation0/episodes/episode0/low_dim_obs.pkl\"\n",
    "\n",
    "with open(pkl_path, \"rb\") as f:\n",
    "    data = pickle.load(f)\n"
   ]
  },
  {
   "cell_type": "code",
   "execution_count": 28,
   "metadata": {},
   "outputs": [
    {
     "name": "stdout",
     "output_type": "stream",
     "text": [
      "keys: dict_keys(['_observations', 'random_seed', 'num_reset_attempts'])\n",
      "observation keys: dict_keys(['left_shoulder_rgb', 'left_shoulder_depth', 'right_shoulder_rgb', 'right_shoulder_depth', 'wrist_rgb', 'wrist_depth', 'front_rgb', 'front_depth', 'joint_velocities', 'joint_positions', 'joint_forces', 'gripper_open', 'gripper_pose', 'gripper_matrix', 'gripper_joint_positions', 'gripper_touch_forces', 'task_low_dim_state', 'misc'])\n"
     ]
    }
   ],
   "source": [
    "print(f\"keys: {vars(data).keys()}\")\n",
    "print(f\"observation keys: {vars(data[0]).keys()}\")"
   ]
  },
  {
   "cell_type": "code",
   "execution_count": 24,
   "metadata": {},
   "outputs": [
    {
     "data": {
      "text/plain": [
       "array([[[  0,  56,  60],\n",
       "        [  0,  47,  52],\n",
       "        [  0,  54,  60],\n",
       "        ...,\n",
       "        [  0,  54,  58],\n",
       "        [  0,  54,  58],\n",
       "        [  0,  54,  58]],\n",
       "\n",
       "       [[  0,  55,  60],\n",
       "        [  0,  51,  55],\n",
       "        [  0,  46,  52],\n",
       "        ...,\n",
       "        [  0,  54,  58],\n",
       "        [  0,  54,  58],\n",
       "        [  0,  54,  58]],\n",
       "\n",
       "       [[  0,  54,  59],\n",
       "        [  0,  46,  52],\n",
       "        [  0,  53,  57],\n",
       "        ...,\n",
       "        [  0,  52,  57],\n",
       "        [  0,  53,  57],\n",
       "        [  0,  53,  57]],\n",
       "\n",
       "       ...,\n",
       "\n",
       "       [[208, 167,  88],\n",
       "        [201, 153,  74],\n",
       "        [206, 167,  88],\n",
       "        ...,\n",
       "        [199, 163,  88],\n",
       "        [191, 155,  83],\n",
       "        [213, 185, 107]],\n",
       "\n",
       "       [[207, 162,  83],\n",
       "        [208, 166,  85],\n",
       "        [207, 164,  84],\n",
       "        ...,\n",
       "        [204, 165,  88],\n",
       "        [200, 158,  80],\n",
       "        [200, 165,  88]],\n",
       "\n",
       "       [[204, 161,  83],\n",
       "        [203, 157,  78],\n",
       "        [206, 161,  82],\n",
       "        ...,\n",
       "        [212, 177,  96],\n",
       "        [208, 178, 102],\n",
       "        [205, 171,  94]]], dtype=uint8)"
      ]
     },
     "execution_count": 24,
     "metadata": {},
     "output_type": "execute_result"
    }
   ],
   "source": [
    "data[0].front_rgb"
   ]
  },
  {
   "cell_type": "code",
   "execution_count": 25,
   "metadata": {},
   "outputs": [
    {
     "data": {
      "text/plain": [
       "(128, 128, 3)"
      ]
     },
     "execution_count": 25,
     "metadata": {},
     "output_type": "execute_result"
    }
   ],
   "source": [
    "data[0].front_rgb.shape"
   ]
  }
 ],
 "metadata": {
  "kernelspec": {
   "display_name": "coa",
   "language": "python",
   "name": "python3"
  },
  "language_info": {
   "codemirror_mode": {
    "name": "ipython",
    "version": 3
   },
   "file_extension": ".py",
   "mimetype": "text/x-python",
   "name": "python",
   "nbconvert_exporter": "python",
   "pygments_lexer": "ipython3",
   "version": "3.9.23"
  }
 },
 "nbformat": 4,
 "nbformat_minor": 2
}
